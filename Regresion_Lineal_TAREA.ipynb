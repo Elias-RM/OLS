{
 "cells": [
  {
   "cell_type": "markdown",
   "metadata": {},
   "source": [
    "# TAREA:\n",
    "\n",
    "\n",
    "# Regresion Lineal \n",
    "## Basado en Christensen, L y W. Greene (1976), \"Economies of Scale in U.S. Electric Power Generation\", Journal of Political Economy, Vol. 84, No. 4, pp. 655-676\n",
    "\n",
    "A continuación, resuleva cada una las instrucciones que se le señalan"
   ]
  },
  {
   "cell_type": "code",
   "execution_count": 1,
   "metadata": {},
   "outputs": [],
   "source": [
    "# Importamos Dependencias o Bibliotecas necesarias:\n",
    "import pyreadstat # librería para leer formato \".dta\"\n",
    "import pandas as pd # librería para manipulación de datos\n",
    "import numpy as np # Librería para operaciones matemáticas\n",
    "import matplotlib # Librería para graficar\n",
    "from matplotlib import pyplot as plt # Librería para graficar\n",
    "import statsmodels.api as sm # Librería para análisis estadístico\n",
    "from IPython.display import Image # Librería para importar imagénes\n",
    "from statsmodels.formula.api import ols # Librería para pruebas de hipotesis"
   ]
  },
  {
   "cell_type": "markdown",
   "metadata": {},
   "source": [
    "### La base de datos contiene información de 100 empresa de generación eléctrica, reportada en las siguientes variables:\n",
    "\n",
    "* **firmid:** ID de la empresa\n",
    "* **costs:** Total costs in MM USD\n",
    "* **output:** output billion KwH\n",
    "* **plabor:** price of labor\n",
    "* **pfuel:** price of fuel\n",
    "* **pkap:** price of capital\n",
    "* **labshr:** participación del trabajo en el costo\n",
    "* **kapshr:** participación del capital en el costo"
   ]
  },
  {
   "cell_type": "markdown",
   "metadata": {},
   "source": [
    "## 1. Importe la base de DATOS:"
   ]
  },
  {
   "cell_type": "code",
   "execution_count": 2,
   "metadata": {},
   "outputs": [],
   "source": [
    "# Ruta al archivo:\n",
    "dtafile = 'Data/cgreene76.dta'\n",
    "# La función read_dat devuelve dos objetos: el dataframe y los metadatos\n",
    "dataframe , meta = pyreadstat.read_dta(dtafile)"
   ]
  },
  {
   "cell_type": "code",
   "execution_count": 3,
   "metadata": {},
   "outputs": [
    {
     "name": "stdout",
     "output_type": "stream",
     "text": [
      "   firmid   costs  output       plabor       pkap      pfuel  labshr  kapshr\n",
      "0     1.0  0.2130     8.0  6869.470215  64.945000  18.000000  0.3291  0.4197\n",
      "1    20.0  0.4887    14.0  5438.890137  86.110001  34.150002  0.2994  0.4571\n",
      "2    17.0  0.6159    50.0  9204.240234  90.470001  32.070000  0.2963  0.0981\n",
      "3    14.0  0.7606    65.0  8971.889648  41.243000  28.539000  0.2802  0.1282\n",
      "4    28.0  0.6363    67.0  6696.500000  58.257999  25.400000  0.2447  0.3674\n",
      "5    22.0  1.1474    90.0  7189.669922  79.100998  21.503000  0.2855  0.2073\n",
      "6    16.0  1.3422   183.0  5063.490234  74.430000  35.509998  0.0960  0.2629\n",
      "7    15.0  2.2587   295.0  8218.400391  71.940002  39.200001  0.1772  0.1623\n",
      "8    27.0  2.0532   374.0  7884.939941  82.458000  26.301399  0.2054  0.1208\n",
      "9    30.0  3.1504   378.0  7895.430176  60.277000  42.468300  0.0980  0.1996\n"
     ]
    }
   ],
   "source": [
    "# Muestre los datos importados\n",
    "print(dataframe.head(10))\n"
   ]
  },
  {
   "cell_type": "markdown",
   "metadata": {},
   "source": [
    "# Considere una función de costos del tipo translog, escrita como:\n",
    "\n",
    "$$ln(C) = \\alpha_0 +  \\alpha_Y ln(Y) + \\frac{1}{2} \\gamma_{YY} (ln(Y))^2 + \\sum_k \\alpha_k ln(P_{k}) + \\frac{1}{2} \\sum_k \\sum_j \\gamma_{kj} ln(P_k) ln(P_j) + \\sum_k \\gamma_{Yk} ln(Y) ln(P_k) + \\varepsilon_i$$\n",
    "\n",
    "Este ecuación es equivalente a la que Christensen y Greene denominan Modelo A. Donde:\n",
    "$\\gamma_{kj} = \\gamma_{jk}$, $C$ es el costo total, $Y$ es el producto, $P_k$'s son los precios de los factores. "
   ]
  },
  {
   "cell_type": "markdown",
   "metadata": {},
   "source": [
    "## 2. Realice las transformaciones necesarias en los datos para estimar la ecuación anterior:"
   ]
  },
  {
   "cell_type": "code",
   "execution_count": 4,
   "metadata": {},
   "outputs": [],
   "source": [
    "dataframe['Ltotcost'] = np.log(dataframe['costs'])\n",
    "dataframe['Loutput'] = np.log(dataframe['output'])\n",
    "\n",
    "dataframe['Lplabor'] = np.log(dataframe['plabor'])\n",
    "dataframe['Lpfuel'] = np.log(dataframe['pfuel'])\n",
    "dataframe['Lpkap'] = np.log(dataframe['pkap'])\n",
    "\n",
    "dataframe[\"Loutput_2\"] = dataframe[\"Loutput\"]**2\n",
    "dataframe[\"Lplabor_2\"] = dataframe[\"Lplabor\"]**2\n",
    "dataframe[\"Lpfuel_2\"] = dataframe[\"Lpfuel\"]**2\n",
    "dataframe[\"Lpkap_2\"] = dataframe[\"Lpkap\"]**2\n",
    "\n",
    "\n",
    "\n",
    "dataframe['Lplabor_pfuel'] = dataframe[\"Lplabor\"]*dataframe[\"Lpfuel\"]\n",
    "dataframe['Lplabor_pkap'] = dataframe[\"Lplabor\"]*dataframe[\"Lpkap\"]\n",
    "dataframe['Lpfuel_pkap'] = dataframe[\"Lpfuel\"]*dataframe[\"Lpkap\"]\n",
    "\n",
    "\n",
    "dataframe['Loutpfuel'] = np.dot(dataframe['Loutput'] , dataframe['Lpfuel'])\n",
    "dataframe['Loutplabor'] = np.dot(dataframe['Loutput'] , dataframe['Lplabor'])\n",
    "dataframe['Loutpkap'] = np.dot(dataframe['Loutput'] , dataframe['Lpkap'])\n",
    "\n",
    "\n",
    "dataframe['One'] = 1\n"
   ]
  },
  {
   "cell_type": "code",
   "execution_count": 5,
   "metadata": {},
   "outputs": [
    {
     "data": {
      "text/html": [
       "<div>\n",
       "<style scoped>\n",
       "    .dataframe tbody tr th:only-of-type {\n",
       "        vertical-align: middle;\n",
       "    }\n",
       "\n",
       "    .dataframe tbody tr th {\n",
       "        vertical-align: top;\n",
       "    }\n",
       "\n",
       "    .dataframe thead th {\n",
       "        text-align: right;\n",
       "    }\n",
       "</style>\n",
       "<table border=\"1\" class=\"dataframe\">\n",
       "  <thead>\n",
       "    <tr style=\"text-align: right;\">\n",
       "      <th></th>\n",
       "      <th>firmid</th>\n",
       "      <th>costs</th>\n",
       "      <th>output</th>\n",
       "      <th>plabor</th>\n",
       "      <th>pkap</th>\n",
       "      <th>pfuel</th>\n",
       "      <th>labshr</th>\n",
       "      <th>kapshr</th>\n",
       "      <th>Ltotcost</th>\n",
       "      <th>Loutput</th>\n",
       "      <th>...</th>\n",
       "      <th>Lplabor_2</th>\n",
       "      <th>Lpfuel_2</th>\n",
       "      <th>Lpkap_2</th>\n",
       "      <th>Lplabor_pfuel</th>\n",
       "      <th>Lplabor_pkap</th>\n",
       "      <th>Lpfuel_pkap</th>\n",
       "      <th>Loutpfuel</th>\n",
       "      <th>Loutplabor</th>\n",
       "      <th>Loutpkap</th>\n",
       "      <th>One</th>\n",
       "    </tr>\n",
       "  </thead>\n",
       "  <tbody>\n",
       "    <tr>\n",
       "      <th>0</th>\n",
       "      <td>1.0</td>\n",
       "      <td>0.2130</td>\n",
       "      <td>8.0</td>\n",
       "      <td>6869.470215</td>\n",
       "      <td>64.945000</td>\n",
       "      <td>18.000000</td>\n",
       "      <td>0.3291</td>\n",
       "      <td>0.4197</td>\n",
       "      <td>-1.546463</td>\n",
       "      <td>2.079442</td>\n",
       "      <td>...</td>\n",
       "      <td>78.054438</td>\n",
       "      <td>8.354249</td>\n",
       "      <td>17.418442</td>\n",
       "      <td>25.535979</td>\n",
       "      <td>36.872574</td>\n",
       "      <td>12.063084</td>\n",
       "      <td>2767.75842</td>\n",
       "      <td>7346.072779</td>\n",
       "      <td>3500.306728</td>\n",
       "      <td>1</td>\n",
       "    </tr>\n",
       "    <tr>\n",
       "      <th>1</th>\n",
       "      <td>20.0</td>\n",
       "      <td>0.4887</td>\n",
       "      <td>14.0</td>\n",
       "      <td>5438.890137</td>\n",
       "      <td>86.110001</td>\n",
       "      <td>34.150002</td>\n",
       "      <td>0.2994</td>\n",
       "      <td>0.4571</td>\n",
       "      <td>-0.716006</td>\n",
       "      <td>2.639057</td>\n",
       "      <td>...</td>\n",
       "      <td>73.982883</td>\n",
       "      <td>12.466285</td>\n",
       "      <td>19.852599</td>\n",
       "      <td>30.369256</td>\n",
       "      <td>38.324307</td>\n",
       "      <td>15.731756</td>\n",
       "      <td>2767.75842</td>\n",
       "      <td>7346.072779</td>\n",
       "      <td>3500.306728</td>\n",
       "      <td>1</td>\n",
       "    </tr>\n",
       "    <tr>\n",
       "      <th>2</th>\n",
       "      <td>17.0</td>\n",
       "      <td>0.6159</td>\n",
       "      <td>50.0</td>\n",
       "      <td>9204.240234</td>\n",
       "      <td>90.470001</td>\n",
       "      <td>32.070000</td>\n",
       "      <td>0.2963</td>\n",
       "      <td>0.0981</td>\n",
       "      <td>-0.484671</td>\n",
       "      <td>3.912023</td>\n",
       "      <td>...</td>\n",
       "      <td>83.309788</td>\n",
       "      <td>12.026476</td>\n",
       "      <td>20.295190</td>\n",
       "      <td>31.653170</td>\n",
       "      <td>41.119192</td>\n",
       "      <td>15.623048</td>\n",
       "      <td>2767.75842</td>\n",
       "      <td>7346.072779</td>\n",
       "      <td>3500.306728</td>\n",
       "      <td>1</td>\n",
       "    </tr>\n",
       "    <tr>\n",
       "      <th>3</th>\n",
       "      <td>14.0</td>\n",
       "      <td>0.7606</td>\n",
       "      <td>65.0</td>\n",
       "      <td>8971.889648</td>\n",
       "      <td>41.243000</td>\n",
       "      <td>28.539000</td>\n",
       "      <td>0.2802</td>\n",
       "      <td>0.1282</td>\n",
       "      <td>-0.273648</td>\n",
       "      <td>4.174387</td>\n",
       "      <td>...</td>\n",
       "      <td>82.843702</td>\n",
       "      <td>11.231021</td>\n",
       "      <td>13.834542</td>\n",
       "      <td>30.502776</td>\n",
       "      <td>33.854168</td>\n",
       "      <td>12.464992</td>\n",
       "      <td>2767.75842</td>\n",
       "      <td>7346.072779</td>\n",
       "      <td>3500.306728</td>\n",
       "      <td>1</td>\n",
       "    </tr>\n",
       "    <tr>\n",
       "      <th>4</th>\n",
       "      <td>28.0</td>\n",
       "      <td>0.6363</td>\n",
       "      <td>67.0</td>\n",
       "      <td>6696.500000</td>\n",
       "      <td>58.257999</td>\n",
       "      <td>25.400000</td>\n",
       "      <td>0.2447</td>\n",
       "      <td>0.3674</td>\n",
       "      <td>-0.452085</td>\n",
       "      <td>4.204693</td>\n",
       "      <td>...</td>\n",
       "      <td>77.604476</td>\n",
       "      <td>10.463602</td>\n",
       "      <td>16.523261</td>\n",
       "      <td>28.496006</td>\n",
       "      <td>35.808924</td>\n",
       "      <td>13.148872</td>\n",
       "      <td>2767.75842</td>\n",
       "      <td>7346.072779</td>\n",
       "      <td>3500.306728</td>\n",
       "      <td>1</td>\n",
       "    </tr>\n",
       "  </tbody>\n",
       "</table>\n",
       "<p>5 rows × 24 columns</p>\n",
       "</div>"
      ],
      "text/plain": [
       "   firmid   costs  output       plabor       pkap      pfuel  labshr  kapshr  \\\n",
       "0     1.0  0.2130     8.0  6869.470215  64.945000  18.000000  0.3291  0.4197   \n",
       "1    20.0  0.4887    14.0  5438.890137  86.110001  34.150002  0.2994  0.4571   \n",
       "2    17.0  0.6159    50.0  9204.240234  90.470001  32.070000  0.2963  0.0981   \n",
       "3    14.0  0.7606    65.0  8971.889648  41.243000  28.539000  0.2802  0.1282   \n",
       "4    28.0  0.6363    67.0  6696.500000  58.257999  25.400000  0.2447  0.3674   \n",
       "\n",
       "   Ltotcost   Loutput  ...  Lplabor_2   Lpfuel_2    Lpkap_2  Lplabor_pfuel  \\\n",
       "0 -1.546463  2.079442  ...  78.054438   8.354249  17.418442      25.535979   \n",
       "1 -0.716006  2.639057  ...  73.982883  12.466285  19.852599      30.369256   \n",
       "2 -0.484671  3.912023  ...  83.309788  12.026476  20.295190      31.653170   \n",
       "3 -0.273648  4.174387  ...  82.843702  11.231021  13.834542      30.502776   \n",
       "4 -0.452085  4.204693  ...  77.604476  10.463602  16.523261      28.496006   \n",
       "\n",
       "   Lplabor_pkap  Lpfuel_pkap   Loutpfuel   Loutplabor     Loutpkap  One  \n",
       "0     36.872574    12.063084  2767.75842  7346.072779  3500.306728    1  \n",
       "1     38.324307    15.731756  2767.75842  7346.072779  3500.306728    1  \n",
       "2     41.119192    15.623048  2767.75842  7346.072779  3500.306728    1  \n",
       "3     33.854168    12.464992  2767.75842  7346.072779  3500.306728    1  \n",
       "4     35.808924    13.148872  2767.75842  7346.072779  3500.306728    1  \n",
       "\n",
       "[5 rows x 24 columns]"
      ]
     },
     "execution_count": 5,
     "metadata": {},
     "output_type": "execute_result"
    }
   ],
   "source": [
    "# Muestre su data frame con las variables adicionales necesarias\n",
    "dataframe.head()"
   ]
  },
  {
   "cell_type": "markdown",
   "metadata": {},
   "source": [
    "## 3. Realice la estimación de la regresión de la función translog: "
   ]
  },
  {
   "cell_type": "code",
   "execution_count": 6,
   "metadata": {},
   "outputs": [],
   "source": [
    "# Definición de vector y matriz: Y y X\n",
    "Y = dataframe[\"Ltotcost\"]\n",
    "X = dataframe[[\"One\",\"Loutput\",\"Loutput_2\",\"Lpfuel\", \"Lpkap\", \"Lplabor_2\", \"Lpfuel_2\", \"Lpkap_2\",\"Lplabor_pfuel\",\"Lplabor_pkap\",\"Lpfuel_pkap\",\"Loutpfuel\", \"Loutplabor\",  \"Lplabor\", \"Loutpkap\"]]"
   ]
  },
  {
   "cell_type": "code",
   "execution_count": 7,
   "metadata": {
    "scrolled": false
   },
   "outputs": [
    {
     "name": "stdout",
     "output_type": "stream",
     "text": [
      "                            OLS Regression Results                            \n",
      "==============================================================================\n",
      "Dep. Variable:               Ltotcost   R-squared:                       0.992\n",
      "Model:                            OLS   Adj. R-squared:                  0.991\n",
      "Method:                 Least Squares   F-statistic:                     955.3\n",
      "Date:                Fri, 17 Apr 2020   Prob (F-statistic):           1.08e-85\n",
      "Time:                        19:30:59   Log-Likelihood:                 60.196\n",
      "No. Observations:                  99   AIC:                            -96.39\n",
      "Df Residuals:                      87   BIC:                            -65.25\n",
      "Df Model:                          11                                         \n",
      "Covariance Type:            nonrobust                                         \n",
      "=================================================================================\n",
      "                    coef    std err          t      P>|t|      [0.025      0.975]\n",
      "---------------------------------------------------------------------------------\n",
      "One           -9.778e-07   7.57e-07     -1.292      0.200   -2.48e-06    5.26e-07\n",
      "Loutput           0.3034      0.051      5.897      0.000       0.201       0.406\n",
      "Loutput_2         0.0365      0.004     10.293      0.000       0.029       0.044\n",
      "Lpfuel           -1.5533      4.116     -0.377      0.707      -9.733       6.627\n",
      "Lpkap            13.6549      9.308      1.467      0.146      -4.846      32.156\n",
      "Lplabor_2        -0.2058      0.512     -0.402      0.689      -1.223       0.812\n",
      "Lpfuel_2          0.0095      0.111      0.085      0.932      -0.211       0.230\n",
      "Lpkap_2          -0.0888      0.398     -0.223      0.824      -0.879       0.701\n",
      "Lplabor_pfuel     0.2730      0.409      0.668      0.506      -0.540       1.086\n",
      "Lplabor_pkap     -1.4012      0.908     -1.544      0.126      -3.205       0.403\n",
      "Lpfuel_pkap      -0.0713      0.457     -0.156      0.876      -0.980       0.837\n",
      "Loutpfuel        -0.0027      0.002     -1.292      0.200      -0.007       0.001\n",
      "Loutplabor       -0.0072      0.006     -1.292      0.200      -0.018       0.004\n",
      "Lplabor           9.1008     10.353      0.879      0.382     -11.478      29.679\n",
      "Loutpkap         -0.0034      0.003     -1.292      0.200      -0.009       0.002\n",
      "==============================================================================\n",
      "Omnibus:                        0.413   Durbin-Watson:                   1.677\n",
      "Prob(Omnibus):                  0.813   Jarque-Bera (JB):                0.123\n",
      "Skew:                          -0.057   Prob(JB):                        0.940\n",
      "Kurtosis:                       3.130   Cond. No.                     3.24e+36\n",
      "==============================================================================\n",
      "\n",
      "Warnings:\n",
      "[1] Standard Errors assume that the covariance matrix of the errors is correctly specified.\n",
      "[2] The smallest eigenvalue is 6.96e-64. This might indicate that there are\n",
      "strong multicollinearity problems or that the design matrix is singular.\n",
      "\n",
      " Parametros \n",
      "  One             -9.777795e-07\n",
      "Loutput          3.033765e-01\n",
      "Loutput_2        3.652958e-02\n",
      "Lpfuel          -1.553348e+00\n",
      "Lpkap            1.365489e+01\n",
      "Lplabor_2       -2.058031e-01\n",
      "Lpfuel_2         9.486980e-03\n",
      "Lpkap_2         -8.882243e-02\n",
      "Lplabor_pfuel    2.729775e-01\n",
      "Lplabor_pkap    -1.401222e+00\n",
      "Lpfuel_pkap     -7.130446e-02\n",
      "Loutpfuel       -2.706257e-03\n",
      "Loutplabor      -7.182840e-03\n",
      "Lplabor          9.100807e+00\n",
      "Loutpkap        -3.422528e-03\n",
      "dtype: float64\n",
      "\n",
      " Valores \n",
      " One              -1.292454\n",
      "Loutput           5.896752\n",
      "Loutput_2        10.292577\n",
      "Lpfuel           -0.377433\n",
      "Lpkap             1.466959\n",
      "Lplabor_2        -0.402096\n",
      "Lpfuel_2          0.085414\n",
      "Lpkap_2          -0.223453\n",
      "Lplabor_pfuel     0.667726\n",
      "Lplabor_pkap     -1.543875\n",
      "Lpfuel_pkap      -0.156037\n",
      "Loutpfuel        -1.292454\n",
      "Loutplabor       -1.292454\n",
      "Lplabor           0.879023\n",
      "Loutpkap         -1.292454\n",
      "dtype: float64\n",
      "\n",
      " Fvalue \n",
      " 955.3099318639694\n"
     ]
    }
   ],
   "source": [
    "# Resporte de la estimación:\n",
    "est = sm.OLS(Y,X)\n",
    "est2 = est.fit()\n",
    "print(est2.summary())\n",
    "\n",
    "\n",
    "print(\"\\n Parametros \\n \",est2.params)\n",
    "print(\"\\n Valores \\n\", est2.tvalues)\n",
    "print(\"\\n Fvalue \\n\", est2.fvalue)\n",
    "\n",
    "\n"
   ]
  },
  {
   "cell_type": "markdown",
   "metadata": {},
   "source": [
    "## 4. Pruebe cada una de las siguientes hipótesis \n",
    "\n",
    "En cada caso escriba sus conclusiones respecto a la prueba y qué significado tiene para la estimación, de acuerdo con el trabajo de Christensen y Greene (1976)"
   ]
  },
  {
   "cell_type": "code",
   "execution_count": 8,
   "metadata": {},
   "outputs": [],
   "source": [
    "# Establecemos la formula de la ecuación estimada:\n",
    "formula = 'Ltotcost ~  One + Loutput  + Lplabor + Lpfuel + Lpkap +Loutput_2 +Lplabor_2 +Lpfuel_2 +Lpkap_2 +  Lpfuel_pkap+ Lplabor_pfuel+ Lplabor_pkap + Loutpfuel+ Loutplabor + Loutpkap '\n",
    "results = ols(formula, dataframe).fit()\n",
    "\n",
    "\n"
   ]
  },
  {
   "cell_type": "markdown",
   "metadata": {},
   "source": [
    "### 4.1\n",
    "$$H_0: \\sum_k \\alpha_k = 1$$"
   ]
  },
  {
   "cell_type": "code",
   "execution_count": 9,
   "metadata": {},
   "outputs": [],
   "source": [
    "# Establecemos la hipótesis\n",
    "hypotheses = 'Lplabor + Lpfuel + Lpkap = 1'\n"
   ]
  },
  {
   "cell_type": "code",
   "execution_count": 10,
   "metadata": {},
   "outputs": [
    {
     "name": "stdout",
     "output_type": "stream",
     "text": [
      "                             Test for Constraints                             \n",
      "==============================================================================\n",
      "                 coef    std err          t      P>|t|      [0.025      0.975]\n",
      "------------------------------------------------------------------------------\n",
      "c0            21.2023     15.594      1.296      0.199      -9.793      52.198\n",
      "==============================================================================\n",
      "<F test: F=array([[1.67832676]]), p=0.19857382195881074, df_denom=87, df_num=1>\n"
     ]
    }
   ],
   "source": [
    "# Prueba de la hipótesis:\n",
    "t_test = results.t_test(hypotheses)\n",
    "print(t_test)\n",
    "f_test = results.f_test(hypotheses)\n",
    "print(f_test)\n"
   ]
  },
  {
   "cell_type": "markdown",
   "metadata": {},
   "source": [
    "### 4.2\n",
    "$$H_0: \\sum_k \\gamma_{Yk} = 0$$"
   ]
  },
  {
   "cell_type": "code",
   "execution_count": 11,
   "metadata": {},
   "outputs": [],
   "source": [
    "# Establecemos la hipótesis\n",
    "hypotheses_2 = 'Lplabor + Lpfuel + Lpkap = 1, Loutpfuel = 0,Loutpkap=0, Loutpkap = 0 '\n"
   ]
  },
  {
   "cell_type": "code",
   "execution_count": 12,
   "metadata": {},
   "outputs": [
    {
     "name": "stdout",
     "output_type": "stream",
     "text": [
      "                             Test for Constraints                             \n",
      "==============================================================================\n",
      "                 coef    std err          t      P>|t|      [0.025      0.975]\n",
      "------------------------------------------------------------------------------\n",
      "c0            21.2023     15.594      1.296      0.199      -9.793      52.198\n",
      "c1            -0.0027      0.002     -1.292      0.200      -0.007       0.001\n",
      "c2            -0.0034      0.003     -1.292      0.200      -0.009       0.002\n",
      "c3            -0.0034      0.003     -1.292      0.200      -0.009       0.002\n",
      "==============================================================================\n",
      "<F test: F=array([[0.84966519]]), p=0.4310748121381406, df_denom=87, df_num=2>\n"
     ]
    },
    {
     "name": "stderr",
     "output_type": "stream",
     "text": [
      "C:\\ProgramData\\Anaconda3\\lib\\site-packages\\statsmodels\\base\\model.py:1832: ValueWarning: covariance of constraints does not have full rank. The number of constraints is 4, but rank is 2\n",
      "  'rank is %d' % (J, J_), ValueWarning)\n"
     ]
    }
   ],
   "source": [
    "# Prueba de la hipótesis:\n",
    "t_test = results.t_test(hypotheses_2)\n",
    "print(t_test)\n",
    "f_test = results.f_test(hypotheses_2)\n",
    "print(f_test)"
   ]
  },
  {
   "cell_type": "markdown",
   "metadata": {},
   "source": [
    "### 4.3\n",
    "$$H_0: \\sum_{k} \\gamma_{kj} = \\sum_{j} \\gamma_{kj} = \\sum_{k} \\sum_{j} \\gamma_{kj} = 0$$"
   ]
  },
  {
   "cell_type": "code",
   "execution_count": 13,
   "metadata": {},
   "outputs": [],
   "source": [
    "# Establecemos la hipótesis\n",
    "hypotheses_3 = 'Lplabor + Lpfuel + Lpkap = 1, Lplabor_2=0, Lpfuel_2=0, Lpkap_2=0, Lpfuel_pkap=0, Lplabor_pfuel=0, Lplabor_pkap=0'\n"
   ]
  },
  {
   "cell_type": "code",
   "execution_count": 14,
   "metadata": {},
   "outputs": [
    {
     "name": "stdout",
     "output_type": "stream",
     "text": [
      "                             Test for Constraints                             \n",
      "==============================================================================\n",
      "                 coef    std err          t      P>|t|      [0.025      0.975]\n",
      "------------------------------------------------------------------------------\n",
      "c0            21.2023     15.594      1.296      0.199      -9.793      52.198\n",
      "c1            -0.2058      0.512     -0.402      0.689      -1.223       0.812\n",
      "c2             0.0095      0.111      0.085      0.932      -0.211       0.230\n",
      "c3            -0.0888      0.398     -0.223      0.824      -0.879       0.701\n",
      "c4            -0.0713      0.457     -0.156      0.876      -0.980       0.837\n",
      "c5             0.2730      0.409      0.668      0.506      -0.540       1.086\n",
      "c6            -1.4012      0.908     -1.544      0.126      -3.205       0.403\n",
      "==============================================================================\n",
      "<F test: F=array([[0.44390044]]), p=0.8717714543647523, df_denom=87, df_num=7>\n"
     ]
    }
   ],
   "source": [
    "# Prueba de la hipótesis:\n",
    "t_test = results.t_test(hypotheses_3)\n",
    "print(t_test)\n",
    "f_test = results.f_test(hypotheses_3)\n",
    "print(f_test)"
   ]
  },
  {
   "cell_type": "markdown",
   "metadata": {},
   "source": [
    "## 5. Dadas sus conclusiones en las pruebas de hipótesis anteriores, ¿considere si debe ajustar la función de costos del tipo translog descrita anteriormente?, en su caso ajuste la siguiente expresión a la forma que debería estimar:\n",
    "\n",
    "$$ln(C) = \\alpha_0 +  \\alpha_Y ln(Y) + \\frac{1}{2} \\gamma_{YY} (ln(Y))^2 + \\sum_k \\alpha_k ln(P_{k}) + \\frac{1}{2} \\sum_k \\sum_j \\gamma_{kj} ln(P_k) ln(P_j) + \\sum_k \\gamma_{Yk} ln(Y) ln(P_k) + \\varepsilon_i$$\n",
    "\n",
    "## Estime la nueva propuesta"
   ]
  },
  {
   "cell_type": "code",
   "execution_count": 15,
   "metadata": {},
   "outputs": [],
   "source": [
    "# Definición de vector y matriz: Y y X\n",
    "\n",
    "dataframe2 , meta = pyreadstat.read_dta(dtafile)\n",
    "dataframe2['Ltotcost'] = np.log(dataframe2['costs'])\n",
    "dataframe2['Loutput'] = np.log(dataframe2['output'])\n",
    "dataframe2['Loutput_2'] = dataframe2['Loutput']**2\n",
    "dataframe2['Lplabor'] = np.log(dataframe2['plabor'])\n",
    "dataframe2['Lpfuel'] = np.log(dataframe2['pfuel'])\n",
    "dataframe2['Lpkap'] = np.log(dataframe2['pkap'])\n",
    "dataframe2['One'] = 1\n",
    "\n",
    "\n",
    "Y = dataframe2[\"Ltotcost\"]\n",
    "X = dataframe2[[\"One\",\"Loutput\", \"Lplabor\", \"Lpfuel\", \"Loutput_2\"]]\n"
   ]
  },
  {
   "cell_type": "code",
   "execution_count": 16,
   "metadata": {},
   "outputs": [
    {
     "name": "stdout",
     "output_type": "stream",
     "text": [
      "                            OLS Regression Results                            \n",
      "==============================================================================\n",
      "Dep. Variable:               Ltotcost   R-squared:                       0.991\n",
      "Model:                            OLS   Adj. R-squared:                  0.991\n",
      "Method:                 Least Squares   F-statistic:                     2724.\n",
      "Date:                Fri, 17 Apr 2020   Prob (F-statistic):           3.07e-96\n",
      "Time:                        19:30:59   Log-Likelihood:                 58.179\n",
      "No. Observations:                  99   AIC:                            -106.4\n",
      "Df Residuals:                      94   BIC:                            -93.38\n",
      "Df Model:                           4                                         \n",
      "Covariance Type:            nonrobust                                         \n",
      "==============================================================================\n",
      "                 coef    std err          t      P>|t|      [0.025      0.975]\n",
      "------------------------------------------------------------------------------\n",
      "One           -7.0675      0.788     -8.974      0.000      -8.631      -5.504\n",
      "Loutput        0.2976      0.047      6.359      0.000       0.205       0.391\n",
      "Lplabor        0.3125      0.093      3.349      0.001       0.127       0.498\n",
      "Lpfuel         0.6615      0.052     12.612      0.000       0.557       0.766\n",
      "Loutput_2      0.0370      0.003     11.511      0.000       0.031       0.043\n",
      "==============================================================================\n",
      "Omnibus:                        0.491   Durbin-Watson:                   1.757\n",
      "Prob(Omnibus):                  0.782   Jarque-Bera (JB):                0.145\n",
      "Skew:                           0.026   Prob(JB):                        0.930\n",
      "Kurtosis:                       3.180   Cond. No.                     4.36e+03\n",
      "==============================================================================\n",
      "\n",
      "Warnings:\n",
      "[1] Standard Errors assume that the covariance matrix of the errors is correctly specified.\n",
      "[2] The condition number is large, 4.36e+03. This might indicate that there are\n",
      "strong multicollinearity or other numerical problems.\n",
      "\n",
      " Parametros \n",
      "  One         -7.067510\n",
      "Loutput      0.297627\n",
      "Lplabor      0.312506\n",
      "Lpfuel       0.661465\n",
      "Loutput_2    0.037044\n",
      "dtype: float64\n",
      "\n",
      " Valores \n",
      " One          -8.973791\n",
      "Loutput       6.359068\n",
      "Lplabor       3.348903\n",
      "Lpfuel       12.612003\n",
      "Loutput_2    11.511043\n",
      "dtype: float64\n",
      "\n",
      " Fvalue \n",
      " 2724.1674308124143\n"
     ]
    }
   ],
   "source": [
    "# Resporte de la estimación:\n",
    "est = sm.OLS(Y,X)\n",
    "est2 = est.fit()\n",
    "print(est2.summary())\n",
    "\n",
    "\n",
    "print(\"\\n Parametros \\n \",est2.params)\n",
    "print(\"\\n Valores \\n\", est2.tvalues)\n",
    "print(\"\\n Fvalue \\n\", est2.fvalue)\n",
    "\n"
   ]
  },
  {
   "cell_type": "markdown",
   "metadata": {},
   "source": [
    "## 6. Determine el valor del Costo Total Estimado y el Costo Medio Estimado considerado cualquiera de las estimaciones que considere pertinente"
   ]
  },
  {
   "cell_type": "code",
   "execution_count": 17,
   "metadata": {},
   "outputs": [
    {
     "data": {
      "text/html": [
       "<div>\n",
       "<style scoped>\n",
       "    .dataframe tbody tr th:only-of-type {\n",
       "        vertical-align: middle;\n",
       "    }\n",
       "\n",
       "    .dataframe tbody tr th {\n",
       "        vertical-align: top;\n",
       "    }\n",
       "\n",
       "    .dataframe thead th {\n",
       "        text-align: right;\n",
       "    }\n",
       "</style>\n",
       "<table border=\"1\" class=\"dataframe\">\n",
       "  <thead>\n",
       "    <tr style=\"text-align: right;\">\n",
       "      <th></th>\n",
       "      <th>firmid</th>\n",
       "      <th>costs</th>\n",
       "      <th>output</th>\n",
       "      <th>plabor</th>\n",
       "      <th>pkap</th>\n",
       "      <th>pfuel</th>\n",
       "      <th>labshr</th>\n",
       "      <th>kapshr</th>\n",
       "      <th>Ltotcost</th>\n",
       "      <th>Loutput</th>\n",
       "      <th>Loutput_2</th>\n",
       "      <th>Lplabor</th>\n",
       "      <th>Lpfuel</th>\n",
       "      <th>Lpkap</th>\n",
       "      <th>One</th>\n",
       "      <th>avgcost</th>\n",
       "      <th>totcost_e</th>\n",
       "      <th>avgcost_e</th>\n",
       "    </tr>\n",
       "  </thead>\n",
       "  <tbody>\n",
       "    <tr>\n",
       "      <th>0</th>\n",
       "      <td>1.0</td>\n",
       "      <td>0.2130</td>\n",
       "      <td>8.0</td>\n",
       "      <td>6869.470215</td>\n",
       "      <td>64.945000</td>\n",
       "      <td>18.000000</td>\n",
       "      <td>0.3291</td>\n",
       "      <td>0.4197</td>\n",
       "      <td>-1.546463</td>\n",
       "      <td>2.079442</td>\n",
       "      <td>4.324077</td>\n",
       "      <td>8.834842</td>\n",
       "      <td>2.890372</td>\n",
       "      <td>4.173541</td>\n",
       "      <td>1</td>\n",
       "      <td>0.026625</td>\n",
       "      <td>0.198770</td>\n",
       "      <td>0.024846</td>\n",
       "    </tr>\n",
       "    <tr>\n",
       "      <th>1</th>\n",
       "      <td>20.0</td>\n",
       "      <td>0.4887</td>\n",
       "      <td>14.0</td>\n",
       "      <td>5438.890137</td>\n",
       "      <td>86.110001</td>\n",
       "      <td>34.150002</td>\n",
       "      <td>0.2994</td>\n",
       "      <td>0.4571</td>\n",
       "      <td>-0.716006</td>\n",
       "      <td>2.639057</td>\n",
       "      <td>6.964624</td>\n",
       "      <td>8.601330</td>\n",
       "      <td>3.530763</td>\n",
       "      <td>4.455626</td>\n",
       "      <td>1</td>\n",
       "      <td>0.034907</td>\n",
       "      <td>0.367654</td>\n",
       "      <td>0.026261</td>\n",
       "    </tr>\n",
       "    <tr>\n",
       "      <th>2</th>\n",
       "      <td>17.0</td>\n",
       "      <td>0.6159</td>\n",
       "      <td>50.0</td>\n",
       "      <td>9204.240234</td>\n",
       "      <td>90.470001</td>\n",
       "      <td>32.070000</td>\n",
       "      <td>0.2963</td>\n",
       "      <td>0.0981</td>\n",
       "      <td>-0.484671</td>\n",
       "      <td>3.912023</td>\n",
       "      <td>15.303924</td>\n",
       "      <td>9.127420</td>\n",
       "      <td>3.467921</td>\n",
       "      <td>4.505018</td>\n",
       "      <td>1</td>\n",
       "      <td>0.012318</td>\n",
       "      <td>0.826969</td>\n",
       "      <td>0.016539</td>\n",
       "    </tr>\n",
       "    <tr>\n",
       "      <th>3</th>\n",
       "      <td>14.0</td>\n",
       "      <td>0.7606</td>\n",
       "      <td>65.0</td>\n",
       "      <td>8971.889648</td>\n",
       "      <td>41.243000</td>\n",
       "      <td>28.539000</td>\n",
       "      <td>0.2802</td>\n",
       "      <td>0.1282</td>\n",
       "      <td>-0.273648</td>\n",
       "      <td>4.174387</td>\n",
       "      <td>17.425509</td>\n",
       "      <td>9.101852</td>\n",
       "      <td>3.351272</td>\n",
       "      <td>3.719481</td>\n",
       "      <td>1</td>\n",
       "      <td>0.011702</td>\n",
       "      <td>0.888287</td>\n",
       "      <td>0.013666</td>\n",
       "    </tr>\n",
       "    <tr>\n",
       "      <th>4</th>\n",
       "      <td>28.0</td>\n",
       "      <td>0.6363</td>\n",
       "      <td>67.0</td>\n",
       "      <td>6696.500000</td>\n",
       "      <td>58.257999</td>\n",
       "      <td>25.400000</td>\n",
       "      <td>0.2447</td>\n",
       "      <td>0.3674</td>\n",
       "      <td>-0.452085</td>\n",
       "      <td>4.204693</td>\n",
       "      <td>17.679440</td>\n",
       "      <td>8.809340</td>\n",
       "      <td>3.234749</td>\n",
       "      <td>4.064881</td>\n",
       "      <td>1</td>\n",
       "      <td>0.009497</td>\n",
       "      <td>0.764510</td>\n",
       "      <td>0.011411</td>\n",
       "    </tr>\n",
       "  </tbody>\n",
       "</table>\n",
       "</div>"
      ],
      "text/plain": [
       "   firmid   costs  output       plabor       pkap      pfuel  labshr  kapshr  \\\n",
       "0     1.0  0.2130     8.0  6869.470215  64.945000  18.000000  0.3291  0.4197   \n",
       "1    20.0  0.4887    14.0  5438.890137  86.110001  34.150002  0.2994  0.4571   \n",
       "2    17.0  0.6159    50.0  9204.240234  90.470001  32.070000  0.2963  0.0981   \n",
       "3    14.0  0.7606    65.0  8971.889648  41.243000  28.539000  0.2802  0.1282   \n",
       "4    28.0  0.6363    67.0  6696.500000  58.257999  25.400000  0.2447  0.3674   \n",
       "\n",
       "   Ltotcost   Loutput  Loutput_2   Lplabor    Lpfuel     Lpkap  One   avgcost  \\\n",
       "0 -1.546463  2.079442   4.324077  8.834842  2.890372  4.173541    1  0.026625   \n",
       "1 -0.716006  2.639057   6.964624  8.601330  3.530763  4.455626    1  0.034907   \n",
       "2 -0.484671  3.912023  15.303924  9.127420  3.467921  4.505018    1  0.012318   \n",
       "3 -0.273648  4.174387  17.425509  9.101852  3.351272  3.719481    1  0.011702   \n",
       "4 -0.452085  4.204693  17.679440  8.809340  3.234749  4.064881    1  0.009497   \n",
       "\n",
       "   totcost_e  avgcost_e  \n",
       "0   0.198770   0.024846  \n",
       "1   0.367654   0.026261  \n",
       "2   0.826969   0.016539  \n",
       "3   0.888287   0.013666  \n",
       "4   0.764510   0.011411  "
      ]
     },
     "execution_count": 17,
     "metadata": {},
     "output_type": "execute_result"
    }
   ],
   "source": [
    "# Rcuperamos de la regresión el valor del Log del costo estimado\n",
    "LY_pred = est2.predict(X)\n",
    "# Anti-log:\n",
    "Y = np.exp(LY_pred)\n",
    "# Colocamos en el Data Frame:\n",
    "dataframe2['avgcost'] = dataframe2[\"costs\"]/dataframe2[\"output\"]\n",
    "dataframe2['totcost_e'] = Y\n",
    "dataframe2['avgcost_e'] = dataframe2[\"totcost_e\"]/dataframe2[\"output\"]\n",
    "dataframe2.head()\n"
   ]
  },
  {
   "cell_type": "markdown",
   "metadata": {},
   "source": [
    "## 7. Gráfique su estimación de Costo Medio y el Costo Medio observado"
   ]
  },
  {
   "cell_type": "code",
   "execution_count": 18,
   "metadata": {},
   "outputs": [
    {
     "ename": "AttributeError",
     "evalue": "'DataFrame' object has no attribute 'avgcost'",
     "output_type": "error",
     "traceback": [
      "\u001b[1;31m---------------------------------------------------------------------------\u001b[0m",
      "\u001b[1;31mAttributeError\u001b[0m                            Traceback (most recent call last)",
      "\u001b[1;32m<ipython-input-18-bacdb21dc30b>\u001b[0m in \u001b[0;36m<module>\u001b[1;34m\u001b[0m\n\u001b[0;32m      1\u001b[0m \u001b[1;31m# graficamos resultados:\u001b[0m\u001b[1;33m\u001b[0m\u001b[1;33m\u001b[0m\u001b[1;33m\u001b[0m\u001b[0m\n\u001b[0;32m      2\u001b[0m \u001b[1;33m\u001b[0m\u001b[0m\n\u001b[1;32m----> 3\u001b[1;33m \u001b[0mplt\u001b[0m\u001b[1;33m.\u001b[0m\u001b[0mscatter\u001b[0m\u001b[1;33m(\u001b[0m\u001b[0mdataframe\u001b[0m\u001b[1;33m.\u001b[0m\u001b[0moutput\u001b[0m\u001b[1;33m,\u001b[0m \u001b[0mdataframe\u001b[0m\u001b[1;33m.\u001b[0m\u001b[0mavgcost\u001b[0m\u001b[1;33m,\u001b[0m \u001b[0ms\u001b[0m \u001b[1;33m=\u001b[0m \u001b[1;36m15\u001b[0m\u001b[1;33m,\u001b[0m \u001b[0mcolor\u001b[0m \u001b[1;33m=\u001b[0m\u001b[1;34m\"red\"\u001b[0m\u001b[1;33m)\u001b[0m\u001b[1;33m\u001b[0m\u001b[1;33m\u001b[0m\u001b[0m\n\u001b[0m\u001b[0;32m      4\u001b[0m \u001b[0mplt\u001b[0m\u001b[1;33m.\u001b[0m\u001b[0mscatter\u001b[0m\u001b[1;33m(\u001b[0m\u001b[0mdataframe\u001b[0m\u001b[1;33m.\u001b[0m\u001b[0moutput\u001b[0m\u001b[1;33m,\u001b[0m \u001b[0mdataframe\u001b[0m\u001b[1;33m.\u001b[0m\u001b[0mavgcost_e\u001b[0m\u001b[1;33m,\u001b[0m \u001b[0ms\u001b[0m \u001b[1;33m=\u001b[0m \u001b[1;36m15\u001b[0m\u001b[1;33m,\u001b[0m \u001b[0mcolor\u001b[0m \u001b[1;33m=\u001b[0m\u001b[1;34m\"blue\"\u001b[0m\u001b[1;33m)\u001b[0m\u001b[1;33m\u001b[0m\u001b[1;33m\u001b[0m\u001b[0m\n\u001b[0;32m      5\u001b[0m \u001b[0mplt\u001b[0m\u001b[1;33m.\u001b[0m\u001b[0mtitle\u001b[0m\u001b[1;33m(\u001b[0m\u001b[1;34m\"Gráfico de dispersión Output vs Avg cost / Avg cost estimado\"\u001b[0m\u001b[1;33m)\u001b[0m\u001b[1;33m\u001b[0m\u001b[1;33m\u001b[0m\u001b[0m\n",
      "\u001b[1;32mC:\\ProgramData\\Anaconda3\\lib\\site-packages\\pandas\\core\\generic.py\u001b[0m in \u001b[0;36m__getattr__\u001b[1;34m(self, name)\u001b[0m\n\u001b[0;32m   5272\u001b[0m             \u001b[1;32mif\u001b[0m \u001b[0mself\u001b[0m\u001b[1;33m.\u001b[0m\u001b[0m_info_axis\u001b[0m\u001b[1;33m.\u001b[0m\u001b[0m_can_hold_identifiers_and_holds_name\u001b[0m\u001b[1;33m(\u001b[0m\u001b[0mname\u001b[0m\u001b[1;33m)\u001b[0m\u001b[1;33m:\u001b[0m\u001b[1;33m\u001b[0m\u001b[1;33m\u001b[0m\u001b[0m\n\u001b[0;32m   5273\u001b[0m                 \u001b[1;32mreturn\u001b[0m \u001b[0mself\u001b[0m\u001b[1;33m[\u001b[0m\u001b[0mname\u001b[0m\u001b[1;33m]\u001b[0m\u001b[1;33m\u001b[0m\u001b[1;33m\u001b[0m\u001b[0m\n\u001b[1;32m-> 5274\u001b[1;33m             \u001b[1;32mreturn\u001b[0m \u001b[0mobject\u001b[0m\u001b[1;33m.\u001b[0m\u001b[0m__getattribute__\u001b[0m\u001b[1;33m(\u001b[0m\u001b[0mself\u001b[0m\u001b[1;33m,\u001b[0m \u001b[0mname\u001b[0m\u001b[1;33m)\u001b[0m\u001b[1;33m\u001b[0m\u001b[1;33m\u001b[0m\u001b[0m\n\u001b[0m\u001b[0;32m   5275\u001b[0m \u001b[1;33m\u001b[0m\u001b[0m\n\u001b[0;32m   5276\u001b[0m     \u001b[1;32mdef\u001b[0m \u001b[0m__setattr__\u001b[0m\u001b[1;33m(\u001b[0m\u001b[0mself\u001b[0m\u001b[1;33m,\u001b[0m \u001b[0mname\u001b[0m\u001b[1;33m:\u001b[0m \u001b[0mstr\u001b[0m\u001b[1;33m,\u001b[0m \u001b[0mvalue\u001b[0m\u001b[1;33m)\u001b[0m \u001b[1;33m->\u001b[0m \u001b[1;32mNone\u001b[0m\u001b[1;33m:\u001b[0m\u001b[1;33m\u001b[0m\u001b[1;33m\u001b[0m\u001b[0m\n",
      "\u001b[1;31mAttributeError\u001b[0m: 'DataFrame' object has no attribute 'avgcost'"
     ]
    }
   ],
   "source": [
    "# graficamos resultados:\n",
    "\n",
    "plt.scatter(dataframe.output, dataframe.avgcost, s = 15, color =\"red\")\n",
    "plt.scatter(dataframe.output, dataframe.avgcost_e, s = 15, color =\"blue\")\n",
    "plt.title(\"Gráfico de dispersión Output vs Avg cost / Avg cost estimado\")\n",
    "#\n",
    "#\n",
    "plt.show()\n"
   ]
  },
  {
   "cell_type": "code",
   "execution_count": null,
   "metadata": {},
   "outputs": [],
   "source": [
    "## 8. Guarde el Data Frame en un archivo CSV:"
   ]
  },
  {
   "cell_type": "code",
   "execution_count": null,
   "metadata": {},
   "outputs": [],
   "source": [
    "dataframe.to_csv('guardar.csv')"
   ]
  },
  {
   "cell_type": "code",
   "execution_count": null,
   "metadata": {},
   "outputs": [],
   "source": []
  },
  {
   "cell_type": "code",
   "execution_count": null,
   "metadata": {},
   "outputs": [],
   "source": []
  },
  {
   "cell_type": "code",
   "execution_count": null,
   "metadata": {},
   "outputs": [],
   "source": []
  }
 ],
 "metadata": {
  "kernelspec": {
   "display_name": "Python 3",
   "language": "python",
   "name": "python3"
  },
  "language_info": {
   "codemirror_mode": {
    "name": "ipython",
    "version": 3
   },
   "file_extension": ".py",
   "mimetype": "text/x-python",
   "name": "python",
   "nbconvert_exporter": "python",
   "pygments_lexer": "ipython3",
   "version": "3.7.6"
  }
 },
 "nbformat": 4,
 "nbformat_minor": 2
}
