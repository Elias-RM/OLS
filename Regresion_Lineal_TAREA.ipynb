{
 "cells": [
  {
   "cell_type": "markdown",
   "metadata": {},
   "source": [
    "# TAREA:\n",
    "\n",
    "\n",
    "# Regresion Lineal \n",
    "## Basado en Christensen, L y W. Greene (1976), \"Economies of Scale in U.S. Electric Power Generation\", Journal of Political Economy, Vol. 84, No. 4, pp. 655-676\n",
    "\n",
    "A continuación, resuleva cada una las instrucciones que se le señalan"
   ]
  },
  {
   "cell_type": "code",
   "execution_count": 19,
   "metadata": {},
   "outputs": [],
   "source": [
    "# Importamos Dependencias o Bibliotecas necesarias:\n",
    "import pyreadstat # librería para leer formato \".dta\"\n",
    "import pandas as pd # librería para manipulación de datos\n",
    "import numpy as np # Librería para operaciones matemáticas\n",
    "import matplotlib # Librería para graficar\n",
    "from matplotlib import pyplot as plt # Librería para graficar\n",
    "import statsmodels.api as sm # Librería para análisis estadístico\n",
    "from IPython.display import Image # Librería para importar imagénes\n",
    "from statsmodels.formula.api import ols # Librería para pruebas de hipotesis"
   ]
  },
  {
   "cell_type": "markdown",
   "metadata": {},
   "source": [
    "### La base de datos contiene información de 100 empresa de generación eléctrica, reportada en las siguientes variables:\n",
    "\n",
    "* **firmid:** ID de la empresa\n",
    "* **costs:** Total costs in MM USD\n",
    "* **output:** output billion KwH\n",
    "* **plabor:** price of labor\n",
    "* **pfuel:** price of fuel\n",
    "* **pkap:** price of capital\n",
    "* **labshr:** participación del trabajo en el costo\n",
    "* **kapshr:** participación del capital en el costo"
   ]
  },
  {
   "cell_type": "markdown",
   "metadata": {},
   "source": [
    "## 1. Importe la base de DATOS:"
   ]
  },
  {
   "cell_type": "code",
   "execution_count": 20,
   "metadata": {},
   "outputs": [],
   "source": [
    "# Ruta al archivo:\n",
    "dtafile = 'Data/cgreene76.dta'\n",
    "# La función read_dat devuelve dos objetos: el dataframe y los metadatos\n",
    "dataframe , meta = pyreadstat.read_dta(dtafile)"
   ]
  },
  {
   "cell_type": "code",
   "execution_count": 21,
   "metadata": {},
   "outputs": [
    {
     "name": "stdout",
     "output_type": "stream",
     "text": [
      "   firmid   costs  output       plabor       pkap      pfuel  labshr  kapshr\n",
      "0     1.0  0.2130     8.0  6869.470215  64.945000  18.000000  0.3291  0.4197\n",
      "1    20.0  0.4887    14.0  5438.890137  86.110001  34.150002  0.2994  0.4571\n",
      "2    17.0  0.6159    50.0  9204.240234  90.470001  32.070000  0.2963  0.0981\n",
      "3    14.0  0.7606    65.0  8971.889648  41.243000  28.539000  0.2802  0.1282\n",
      "4    28.0  0.6363    67.0  6696.500000  58.257999  25.400000  0.2447  0.3674\n",
      "5    22.0  1.1474    90.0  7189.669922  79.100998  21.503000  0.2855  0.2073\n",
      "6    16.0  1.3422   183.0  5063.490234  74.430000  35.509998  0.0960  0.2629\n",
      "7    15.0  2.2587   295.0  8218.400391  71.940002  39.200001  0.1772  0.1623\n",
      "8    27.0  2.0532   374.0  7884.939941  82.458000  26.301399  0.2054  0.1208\n",
      "9    30.0  3.1504   378.0  7895.430176  60.277000  42.468300  0.0980  0.1996\n"
     ]
    }
   ],
   "source": [
    "# Muestre los datos importados\n",
    "print(dataframe.head(10))\n"
   ]
  },
  {
   "cell_type": "markdown",
   "metadata": {},
   "source": [
    "# Considere una función de costos del tipo translog, escrita como:\n",
    "\n",
    "$$ln(C) = \\alpha_0 +  \\alpha_Y ln(Y) + \\frac{1}{2} \\gamma_{YY} (ln(Y))^2 + \\sum_k \\alpha_k ln(P_{k}) + \\frac{1}{2} \\sum_k \\sum_j \\gamma_{kj} ln(P_k) ln(P_j) + \\sum_k \\gamma_{Yk} ln(Y) ln(P_k) + \\varepsilon_i$$\n",
    "\n",
    "Este ecuación es equivalente a la que Christensen y Greene denominan Modelo A. Donde:\n",
    "$\\gamma_{kj} = \\gamma_{jk}$, $C$ es el costo total, $Y$ es el producto, $P_k$'s son los precios de los factores. "
   ]
  },
  {
   "cell_type": "markdown",
   "metadata": {},
   "source": [
    "## 2. Realice las transformaciones necesarias en los datos para estimar la ecuación anterior:"
   ]
  },
  {
   "cell_type": "code",
   "execution_count": 22,
   "metadata": {},
   "outputs": [],
   "source": [
    "dataframe['Ltotcost'] = np.log(dataframe['costs'])\n",
    "dataframe['Loutput'] = np.log(dataframe['output'])\n",
    "dataframe[\"Loutput_2\"] = dataframe[\"Loutput\"]**2\n",
    "dataframe['Lplabor'] = np.log(dataframe['plabor'])\n",
    "dataframe['Lpfuel'] = np.log(dataframe['pfuel'])\n",
    "dataframe['Lpkap'] = np.log(dataframe['pkap'])\n",
    "dataframe['Lpprod'] = np.dot(dataframe['plabor'] , dataframe['pfuel'])\n",
    "dataframe['Loutpfuel'] = np.dot(dataframe['Loutput'] , dataframe['pfuel'])\n",
    "dataframe['One'] = 1\n"
   ]
  },
  {
   "cell_type": "code",
   "execution_count": 23,
   "metadata": {},
   "outputs": [
    {
     "data": {
      "text/html": [
       "<div>\n",
       "<style scoped>\n",
       "    .dataframe tbody tr th:only-of-type {\n",
       "        vertical-align: middle;\n",
       "    }\n",
       "\n",
       "    .dataframe tbody tr th {\n",
       "        vertical-align: top;\n",
       "    }\n",
       "\n",
       "    .dataframe thead th {\n",
       "        text-align: right;\n",
       "    }\n",
       "</style>\n",
       "<table border=\"1\" class=\"dataframe\">\n",
       "  <thead>\n",
       "    <tr style=\"text-align: right;\">\n",
       "      <th></th>\n",
       "      <th>firmid</th>\n",
       "      <th>costs</th>\n",
       "      <th>output</th>\n",
       "      <th>plabor</th>\n",
       "      <th>pkap</th>\n",
       "      <th>pfuel</th>\n",
       "      <th>labshr</th>\n",
       "      <th>kapshr</th>\n",
       "      <th>Ltotcost</th>\n",
       "      <th>Loutput</th>\n",
       "      <th>Loutput_2</th>\n",
       "      <th>Lplabor</th>\n",
       "      <th>Lpfuel</th>\n",
       "      <th>Lpkap</th>\n",
       "      <th>Lpprod</th>\n",
       "      <th>Loutpfuel</th>\n",
       "      <th>One</th>\n",
       "    </tr>\n",
       "  </thead>\n",
       "  <tbody>\n",
       "    <tr>\n",
       "      <th>0</th>\n",
       "      <td>1.0</td>\n",
       "      <td>0.2130</td>\n",
       "      <td>8.0</td>\n",
       "      <td>6869.470215</td>\n",
       "      <td>64.945000</td>\n",
       "      <td>18.000000</td>\n",
       "      <td>0.3291</td>\n",
       "      <td>0.4197</td>\n",
       "      <td>-1.546463</td>\n",
       "      <td>2.079442</td>\n",
       "      <td>4.324077</td>\n",
       "      <td>8.834842</td>\n",
       "      <td>2.890372</td>\n",
       "      <td>4.173541</td>\n",
       "      <td>2.427671e+07</td>\n",
       "      <td>24982.580173</td>\n",
       "      <td>1</td>\n",
       "    </tr>\n",
       "    <tr>\n",
       "      <th>1</th>\n",
       "      <td>20.0</td>\n",
       "      <td>0.4887</td>\n",
       "      <td>14.0</td>\n",
       "      <td>5438.890137</td>\n",
       "      <td>86.110001</td>\n",
       "      <td>34.150002</td>\n",
       "      <td>0.2994</td>\n",
       "      <td>0.4571</td>\n",
       "      <td>-0.716006</td>\n",
       "      <td>2.639057</td>\n",
       "      <td>6.964624</td>\n",
       "      <td>8.601330</td>\n",
       "      <td>3.530763</td>\n",
       "      <td>4.455626</td>\n",
       "      <td>2.427671e+07</td>\n",
       "      <td>24982.580173</td>\n",
       "      <td>1</td>\n",
       "    </tr>\n",
       "    <tr>\n",
       "      <th>2</th>\n",
       "      <td>17.0</td>\n",
       "      <td>0.6159</td>\n",
       "      <td>50.0</td>\n",
       "      <td>9204.240234</td>\n",
       "      <td>90.470001</td>\n",
       "      <td>32.070000</td>\n",
       "      <td>0.2963</td>\n",
       "      <td>0.0981</td>\n",
       "      <td>-0.484671</td>\n",
       "      <td>3.912023</td>\n",
       "      <td>15.303924</td>\n",
       "      <td>9.127420</td>\n",
       "      <td>3.467921</td>\n",
       "      <td>4.505018</td>\n",
       "      <td>2.427671e+07</td>\n",
       "      <td>24982.580173</td>\n",
       "      <td>1</td>\n",
       "    </tr>\n",
       "    <tr>\n",
       "      <th>3</th>\n",
       "      <td>14.0</td>\n",
       "      <td>0.7606</td>\n",
       "      <td>65.0</td>\n",
       "      <td>8971.889648</td>\n",
       "      <td>41.243000</td>\n",
       "      <td>28.539000</td>\n",
       "      <td>0.2802</td>\n",
       "      <td>0.1282</td>\n",
       "      <td>-0.273648</td>\n",
       "      <td>4.174387</td>\n",
       "      <td>17.425509</td>\n",
       "      <td>9.101852</td>\n",
       "      <td>3.351272</td>\n",
       "      <td>3.719481</td>\n",
       "      <td>2.427671e+07</td>\n",
       "      <td>24982.580173</td>\n",
       "      <td>1</td>\n",
       "    </tr>\n",
       "    <tr>\n",
       "      <th>4</th>\n",
       "      <td>28.0</td>\n",
       "      <td>0.6363</td>\n",
       "      <td>67.0</td>\n",
       "      <td>6696.500000</td>\n",
       "      <td>58.257999</td>\n",
       "      <td>25.400000</td>\n",
       "      <td>0.2447</td>\n",
       "      <td>0.3674</td>\n",
       "      <td>-0.452085</td>\n",
       "      <td>4.204693</td>\n",
       "      <td>17.679440</td>\n",
       "      <td>8.809340</td>\n",
       "      <td>3.234749</td>\n",
       "      <td>4.064881</td>\n",
       "      <td>2.427671e+07</td>\n",
       "      <td>24982.580173</td>\n",
       "      <td>1</td>\n",
       "    </tr>\n",
       "  </tbody>\n",
       "</table>\n",
       "</div>"
      ],
      "text/plain": [
       "   firmid   costs  output       plabor       pkap      pfuel  labshr  kapshr  \\\n",
       "0     1.0  0.2130     8.0  6869.470215  64.945000  18.000000  0.3291  0.4197   \n",
       "1    20.0  0.4887    14.0  5438.890137  86.110001  34.150002  0.2994  0.4571   \n",
       "2    17.0  0.6159    50.0  9204.240234  90.470001  32.070000  0.2963  0.0981   \n",
       "3    14.0  0.7606    65.0  8971.889648  41.243000  28.539000  0.2802  0.1282   \n",
       "4    28.0  0.6363    67.0  6696.500000  58.257999  25.400000  0.2447  0.3674   \n",
       "\n",
       "   Ltotcost   Loutput  Loutput_2   Lplabor    Lpfuel     Lpkap        Lpprod  \\\n",
       "0 -1.546463  2.079442   4.324077  8.834842  2.890372  4.173541  2.427671e+07   \n",
       "1 -0.716006  2.639057   6.964624  8.601330  3.530763  4.455626  2.427671e+07   \n",
       "2 -0.484671  3.912023  15.303924  9.127420  3.467921  4.505018  2.427671e+07   \n",
       "3 -0.273648  4.174387  17.425509  9.101852  3.351272  3.719481  2.427671e+07   \n",
       "4 -0.452085  4.204693  17.679440  8.809340  3.234749  4.064881  2.427671e+07   \n",
       "\n",
       "      Loutpfuel  One  \n",
       "0  24982.580173    1  \n",
       "1  24982.580173    1  \n",
       "2  24982.580173    1  \n",
       "3  24982.580173    1  \n",
       "4  24982.580173    1  "
      ]
     },
     "execution_count": 23,
     "metadata": {},
     "output_type": "execute_result"
    }
   ],
   "source": [
    "# Muestre su data frame con las variables adicionales necesarias\n",
    "dataframe.head()"
   ]
  },
  {
   "cell_type": "markdown",
   "metadata": {},
   "source": [
    "## 3. Realice la estimación de la regresión de la función translog: "
   ]
  },
  {
   "cell_type": "code",
   "execution_count": 24,
   "metadata": {},
   "outputs": [],
   "source": [
    "# Definición de vector y matriz: Y y X\n",
    "Y = dataframe[\"Ltotcost\"]\n",
    "X = dataframe[[\"One\",\"Loutput\",\"Loutput_2\", \"Lplabor\", \"Lpfuel\", \"Lpkap\",\"Lpprod\",\"Loutpfuel\"]]"
   ]
  },
  {
   "cell_type": "code",
   "execution_count": 25,
   "metadata": {},
   "outputs": [
    {
     "name": "stdout",
     "output_type": "stream",
     "text": [
      "                            OLS Regression Results                            \n",
      "==============================================================================\n",
      "Dep. Variable:               Ltotcost   R-squared:                       0.992\n",
      "Model:                            OLS   Adj. R-squared:                  0.991\n",
      "Method:                 Least Squares   F-statistic:                     2173.\n",
      "Date:                Wed, 15 Apr 2020   Prob (F-statistic):           1.20e-94\n",
      "Time:                        23:49:07   Log-Likelihood:                 58.552\n",
      "No. Observations:                  99   AIC:                            -105.1\n",
      "Df Residuals:                      93   BIC:                            -89.53\n",
      "Df Model:                           5                                         \n",
      "Covariance Type:            nonrobust                                         \n",
      "==============================================================================\n",
      "                 coef    std err          t      P>|t|      [0.025      0.975]\n",
      "------------------------------------------------------------------------------\n",
      "One        -1.269e-14   1.55e-15     -8.191      0.000   -1.58e-14   -9.62e-15\n",
      "Loutput        0.3007      0.047      6.395      0.000       0.207       0.394\n",
      "Loutput_2      0.0367      0.003     11.321      0.000       0.030       0.043\n",
      "Lplabor        0.3189      0.094      3.401      0.001       0.133       0.505\n",
      "Lpfuel         0.6578      0.053     12.480      0.000       0.553       0.762\n",
      "Lpkap          0.0796      0.095      0.839      0.403      -0.109       0.268\n",
      "Lpprod     -3.071e-07   3.77e-08     -8.154      0.000   -3.82e-07   -2.32e-07\n",
      "Loutpfuel  -3.184e-10   3.87e-11     -8.233      0.000   -3.95e-10   -2.42e-10\n",
      "==============================================================================\n",
      "Omnibus:                        0.599   Durbin-Watson:                   1.743\n",
      "Prob(Omnibus):                  0.741   Jarque-Bera (JB):                0.217\n",
      "Skew:                          -0.047   Prob(JB):                        0.897\n",
      "Kurtosis:                       3.209   Cond. No.                     4.19e+39\n",
      "==============================================================================\n",
      "\n",
      "Warnings:\n",
      "[1] Standard Errors assume that the covariance matrix of the errors is correctly specified.\n",
      "[2] The smallest eigenvalue is 3.32e-63. This might indicate that there are\n",
      "strong multicollinearity problems or that the design matrix is singular.\n",
      "\n",
      " Parametros \n",
      "  One         -1.269379e-14\n",
      "Loutput      3.006675e-01\n",
      "Loutput_2    3.673112e-02\n",
      "Lplabor      3.188994e-01\n",
      "Lpfuel       6.578127e-01\n",
      "Lpkap        7.963975e-02\n",
      "Lpprod      -3.071072e-07\n",
      "Loutpfuel   -3.184102e-10\n",
      "dtype: float64\n",
      "\n",
      " Valores \n",
      " One          -8.190503\n",
      "Loutput       6.394861\n",
      "Loutput_2    11.320765\n",
      "Lplabor       3.400765\n",
      "Lpfuel       12.479882\n",
      "Lpkap         0.839378\n",
      "Lpprod       -8.154343\n",
      "Loutpfuel    -8.233215\n",
      "dtype: float64\n",
      "\n",
      " Fvalue \n",
      " 2172.6251449006145\n"
     ]
    }
   ],
   "source": [
    "# Resporte de la estimación:\n",
    "est = sm.OLS(Y,X)\n",
    "est2 = est.fit()\n",
    "print(est2.summary())\n",
    "\n",
    "\n",
    "print(\"\\n Parametros \\n \",est2.params)\n",
    "print(\"\\n Valores \\n\", est2.tvalues)\n",
    "print(\"\\n Fvalue \\n\", est2.fvalue)\n",
    "\n",
    "\n"
   ]
  },
  {
   "cell_type": "markdown",
   "metadata": {},
   "source": [
    "## 4. Pruebe cada una de las siguientes hipótesis \n",
    "\n",
    "En cada caso escriba sus conclusiones respecto a la prueba y qué significado tiene para la estimación, de acuerdo con el trabajo de Christensen y Greene (1976)"
   ]
  },
  {
   "cell_type": "code",
   "execution_count": 29,
   "metadata": {},
   "outputs": [],
   "source": [
    "# Establecemos la formula de la ecuación estimada:\n",
    "formula = 'Ltotcost ~  One + Loutput  + Lplabor + Lpfuel + Lpkap + Lpprod + Loutpfuel'\n",
    "results = ols(formula, dataframe).fit()\n",
    "\n",
    "\n"
   ]
  },
  {
   "cell_type": "markdown",
   "metadata": {},
   "source": [
    "### 4.1\n",
    "$$H_0: \\sum_k \\alpha_k = 1$$"
   ]
  },
  {
   "cell_type": "code",
   "execution_count": 32,
   "metadata": {},
   "outputs": [],
   "source": [
    "# Establecemos la hipótesis\n",
    "hypotheses = 'Lplabor + Lpfuel + Lpkap = 1'\n"
   ]
  },
  {
   "cell_type": "code",
   "execution_count": 33,
   "metadata": {},
   "outputs": [
    {
     "name": "stdout",
     "output_type": "stream",
     "text": [
      "                             Test for Constraints                             \n",
      "==============================================================================\n",
      "                 coef    std err          t      P>|t|      [0.025      0.975]\n",
      "------------------------------------------------------------------------------\n",
      "c0             1.0740      0.207      0.358      0.721       0.664       1.484\n",
      "==============================================================================\n",
      "<F test: F=array([[0.12826523]]), p=0.7210405420675796, df_denom=94, df_num=1>\n"
     ]
    }
   ],
   "source": [
    "# Prueba de la hipótesis:\n",
    "t_test = results.t_test(hypotheses)\n",
    "print(t_test)\n",
    "f_test = results.f_test(hypotheses)\n",
    "print(f_test)\n"
   ]
  },
  {
   "cell_type": "markdown",
   "metadata": {},
   "source": [
    "### 4.2\n",
    "$$H_0: \\sum_k \\gamma_{Yk} = 0$$"
   ]
  },
  {
   "cell_type": "code",
   "execution_count": 46,
   "metadata": {},
   "outputs": [],
   "source": [
    "# Establecemos la hipótesis\n",
    "hypotheses_2 = 'Lplabor + Lpfuel + Lpkap = 1, Loutpfuel = 0'\n"
   ]
  },
  {
   "cell_type": "code",
   "execution_count": 47,
   "metadata": {},
   "outputs": [
    {
     "name": "stdout",
     "output_type": "stream",
     "text": [
      "                             Test for Constraints                             \n",
      "==============================================================================\n",
      "                 coef    std err          t      P>|t|      [0.025      0.975]\n",
      "------------------------------------------------------------------------------\n",
      "c0             1.0740      0.207      0.358      0.721       0.664       1.484\n",
      "c1         -3.638e-10    5.9e-11     -6.162      0.000   -4.81e-10   -2.47e-10\n",
      "==============================================================================\n",
      "<F test: F=array([[0.12826523]]), p=0.7210405420675796, df_denom=94, df_num=1>\n"
     ]
    },
    {
     "name": "stderr",
     "output_type": "stream",
     "text": [
      "C:\\ProgramData\\Anaconda3\\lib\\site-packages\\statsmodels\\base\\model.py:1832: ValueWarning: covariance of constraints does not have full rank. The number of constraints is 2, but rank is 1\n",
      "  'rank is %d' % (J, J_), ValueWarning)\n"
     ]
    }
   ],
   "source": [
    "# Prueba de la hipótesis:\n",
    "t_test = results.t_test(hypotheses_2)\n",
    "print(t_test)\n",
    "f_test = results.f_test(hypotheses_2)\n",
    "print(f_test)"
   ]
  },
  {
   "cell_type": "markdown",
   "metadata": {},
   "source": [
    "### 4.3\n",
    "$$H_0: \\sum_{k} \\gamma_{kj} = \\sum_{j} \\gamma_{kj} = \\sum_{k} \\sum_{j} \\gamma_{kj} = 0$$"
   ]
  },
  {
   "cell_type": "code",
   "execution_count": 48,
   "metadata": {},
   "outputs": [],
   "source": [
    "# Establecemos la hipótesis\n",
    "hypotheses_3 = 'Lplabor + Lpfuel + Lpkap = 1, Lpprod = 0'\n"
   ]
  },
  {
   "cell_type": "code",
   "execution_count": 49,
   "metadata": {},
   "outputs": [
    {
     "name": "stdout",
     "output_type": "stream",
     "text": [
      "                             Test for Constraints                             \n",
      "==============================================================================\n",
      "                 coef    std err          t      P>|t|      [0.025      0.975]\n",
      "------------------------------------------------------------------------------\n",
      "c0             1.0740      0.207      0.358      0.721       0.664       1.484\n",
      "c1         -3.521e-07   5.74e-08     -6.130      0.000   -4.66e-07   -2.38e-07\n",
      "==============================================================================\n",
      "<F test: F=array([[102.07913061]]), p=2.7416202975810717e-24, df_denom=94, df_num=2>\n"
     ]
    }
   ],
   "source": [
    "# Prueba de la hipótesis:\n",
    "t_test = results.t_test(hypotheses_3)\n",
    "print(t_test)\n",
    "f_test = results.f_test(hypotheses_3)\n",
    "print(f_test)"
   ]
  },
  {
   "cell_type": "markdown",
   "metadata": {},
   "source": [
    "## 5. Dadas sus conclusiones en las pruebas de hipótesis anteriores, ¿considere si debe ajustar la función de costos del tipo translog descrita anteriormente?, en su caso ajuste la siguiente expresión a la forma que debería estimar:\n",
    "\n",
    "$$ln(C) = \\alpha_0 +  \\alpha_Y ln(Y) + \\frac{1}{2} \\gamma_{YY} (ln(Y))^2 + \\sum_k \\alpha_k ln(P_{k}) + \\frac{1}{2} \\sum_k \\sum_j \\gamma_{kj} ln(P_k) ln(P_j) + \\sum_k \\gamma_{Yk} ln(Y) ln(P_k) + \\varepsilon_i$$\n",
    "\n",
    "## Estime la nueva propuesta"
   ]
  },
  {
   "cell_type": "code",
   "execution_count": 40,
   "metadata": {},
   "outputs": [
    {
     "ename": "SyntaxError",
     "evalue": "invalid syntax (<ipython-input-40-da68cb8f9ed1>, line 3)",
     "output_type": "error",
     "traceback": [
      "\u001b[1;36m  File \u001b[1;32m\"<ipython-input-40-da68cb8f9ed1>\"\u001b[1;36m, line \u001b[1;32m3\u001b[0m\n\u001b[1;33m    X = [[\"One\",\"Loutput\", \"Lplabor\", \"Lpfuel\", \"Lpkap\", , , ,]]\u001b[0m\n\u001b[1;37m                                                         ^\u001b[0m\n\u001b[1;31mSyntaxError\u001b[0m\u001b[1;31m:\u001b[0m invalid syntax\n"
     ]
    }
   ],
   "source": [
    "# Definición de vector y matriz: Y y X\n",
    "Y = [\"Ltotcost\"]\n",
    "X = [[\"One\",\"Loutput\", \"Lplabor\", \"Lpfuel\", \"Lpkap\", , , ,]]\n",
    "#\n",
    "X"
   ]
  },
  {
   "cell_type": "code",
   "execution_count": 50,
   "metadata": {},
   "outputs": [
    {
     "name": "stdout",
     "output_type": "stream",
     "text": [
      "                            OLS Regression Results                            \n",
      "==============================================================================\n",
      "Dep. Variable:                      y   R-squared:                       0.824\n",
      "Model:                            OLS   Adj. R-squared:                  0.814\n",
      "Method:                 Least Squares   F-statistic:                     87.06\n",
      "Date:                Wed, 15 Apr 2020   Prob (F-statistic):           1.56e-33\n",
      "Time:                        23:54:09   Log-Likelihood:                -452.18\n",
      "No. Observations:                  99   AIC:                             916.4\n",
      "Df Residuals:                      93   BIC:                             931.9\n",
      "Df Model:                           5                                         \n",
      "Covariance Type:            nonrobust                                         \n",
      "==============================================================================\n",
      "                 coef    std err          t      P>|t|      [0.025      0.975]\n",
      "------------------------------------------------------------------------------\n",
      "One        -4.482e-14    2.7e-13     -0.166      0.868    -5.8e-13    4.91e-13\n",
      "Loutput      -83.3185      8.180    -10.186      0.000     -99.563     -67.074\n",
      "Loutput_2      7.3474      0.564     13.016      0.000       6.226       8.468\n",
      "Lplabor       18.4592     16.315      1.131      0.261     -13.939      50.857\n",
      "Lpfuel        34.6588      9.171      3.779      0.000      16.448      52.870\n",
      "Lpkap         -9.3094     16.507     -0.564      0.574     -42.090      23.471\n",
      "Lpprod     -1.284e-06   6.55e-06     -0.196      0.845   -1.43e-05    1.17e-05\n",
      "Loutpfuel  -8.813e-10   6.73e-09     -0.131      0.896   -1.42e-08    1.25e-08\n",
      "==============================================================================\n",
      "Omnibus:                       37.788   Durbin-Watson:                   0.410\n",
      "Prob(Omnibus):                  0.000   Jarque-Bera (JB):               82.087\n",
      "Skew:                           1.469   Prob(JB):                     1.50e-18\n",
      "Kurtosis:                       6.356   Cond. No.                     4.19e+39\n",
      "==============================================================================\n",
      "\n",
      "Warnings:\n",
      "[1] Standard Errors assume that the covariance matrix of the errors is correctly specified.\n",
      "[2] The smallest eigenvalue is 3.32e-63. This might indicate that there are\n",
      "strong multicollinearity problems or that the design matrix is singular.\n"
     ]
    }
   ],
   "source": [
    "# Resporte de la estimación:\n",
    "est = sm.OLS(Y,X)\n",
    "est2 = est.fit()\n",
    "print(est2.summary())"
   ]
  },
  {
   "cell_type": "markdown",
   "metadata": {},
   "source": [
    "## 6. Determine el valor del Costo Total Estimado y el Costo Medio Estimado considerado cualquiera de las estimaciones que considere pertinente"
   ]
  },
  {
   "cell_type": "code",
   "execution_count": 42,
   "metadata": {},
   "outputs": [
    {
     "data": {
      "text/html": [
       "<div>\n",
       "<style scoped>\n",
       "    .dataframe tbody tr th:only-of-type {\n",
       "        vertical-align: middle;\n",
       "    }\n",
       "\n",
       "    .dataframe tbody tr th {\n",
       "        vertical-align: top;\n",
       "    }\n",
       "\n",
       "    .dataframe thead th {\n",
       "        text-align: right;\n",
       "    }\n",
       "</style>\n",
       "<table border=\"1\" class=\"dataframe\">\n",
       "  <thead>\n",
       "    <tr style=\"text-align: right;\">\n",
       "      <th></th>\n",
       "      <th>firmid</th>\n",
       "      <th>costs</th>\n",
       "      <th>output</th>\n",
       "      <th>plabor</th>\n",
       "      <th>pkap</th>\n",
       "      <th>pfuel</th>\n",
       "      <th>labshr</th>\n",
       "      <th>kapshr</th>\n",
       "      <th>Ltotcost</th>\n",
       "      <th>Loutput</th>\n",
       "      <th>Loutput_2</th>\n",
       "      <th>Lplabor</th>\n",
       "      <th>Lpfuel</th>\n",
       "      <th>Lpkap</th>\n",
       "      <th>Lpprod</th>\n",
       "      <th>Loutpfuel</th>\n",
       "      <th>One</th>\n",
       "      <th>avgcost</th>\n",
       "      <th>totcost_e</th>\n",
       "      <th>avgcost_e</th>\n",
       "    </tr>\n",
       "  </thead>\n",
       "  <tbody>\n",
       "    <tr>\n",
       "      <th>0</th>\n",
       "      <td>1.0</td>\n",
       "      <td>0.2130</td>\n",
       "      <td>8.0</td>\n",
       "      <td>6869.470215</td>\n",
       "      <td>64.945000</td>\n",
       "      <td>18.000000</td>\n",
       "      <td>0.3291</td>\n",
       "      <td>0.4197</td>\n",
       "      <td>-1.546463</td>\n",
       "      <td>2.079442</td>\n",
       "      <td>4.324077</td>\n",
       "      <td>8.834842</td>\n",
       "      <td>2.890372</td>\n",
       "      <td>4.173541</td>\n",
       "      <td>2.427671e+07</td>\n",
       "      <td>24982.580173</td>\n",
       "      <td>1</td>\n",
       "      <td>0.026625</td>\n",
       "      <td>0.197823</td>\n",
       "      <td>0.024728</td>\n",
       "    </tr>\n",
       "    <tr>\n",
       "      <th>1</th>\n",
       "      <td>20.0</td>\n",
       "      <td>0.4887</td>\n",
       "      <td>14.0</td>\n",
       "      <td>5438.890137</td>\n",
       "      <td>86.110001</td>\n",
       "      <td>34.150002</td>\n",
       "      <td>0.2994</td>\n",
       "      <td>0.4571</td>\n",
       "      <td>-0.716006</td>\n",
       "      <td>2.639057</td>\n",
       "      <td>6.964624</td>\n",
       "      <td>8.601330</td>\n",
       "      <td>3.530763</td>\n",
       "      <td>4.455626</td>\n",
       "      <td>2.427671e+07</td>\n",
       "      <td>24982.580173</td>\n",
       "      <td>1</td>\n",
       "      <td>0.034907</td>\n",
       "      <td>0.373111</td>\n",
       "      <td>0.026651</td>\n",
       "    </tr>\n",
       "    <tr>\n",
       "      <th>2</th>\n",
       "      <td>17.0</td>\n",
       "      <td>0.6159</td>\n",
       "      <td>50.0</td>\n",
       "      <td>9204.240234</td>\n",
       "      <td>90.470001</td>\n",
       "      <td>32.070000</td>\n",
       "      <td>0.2963</td>\n",
       "      <td>0.0981</td>\n",
       "      <td>-0.484671</td>\n",
       "      <td>3.912023</td>\n",
       "      <td>15.303924</td>\n",
       "      <td>9.127420</td>\n",
       "      <td>3.467921</td>\n",
       "      <td>4.505018</td>\n",
       "      <td>2.427671e+07</td>\n",
       "      <td>24982.580173</td>\n",
       "      <td>1</td>\n",
       "      <td>0.012318</td>\n",
       "      <td>0.846654</td>\n",
       "      <td>0.016933</td>\n",
       "    </tr>\n",
       "    <tr>\n",
       "      <th>3</th>\n",
       "      <td>14.0</td>\n",
       "      <td>0.7606</td>\n",
       "      <td>65.0</td>\n",
       "      <td>8971.889648</td>\n",
       "      <td>41.243000</td>\n",
       "      <td>28.539000</td>\n",
       "      <td>0.2802</td>\n",
       "      <td>0.1282</td>\n",
       "      <td>-0.273648</td>\n",
       "      <td>4.174387</td>\n",
       "      <td>17.425509</td>\n",
       "      <td>9.101852</td>\n",
       "      <td>3.351272</td>\n",
       "      <td>3.719481</td>\n",
       "      <td>2.427671e+07</td>\n",
       "      <td>24982.580173</td>\n",
       "      <td>1</td>\n",
       "      <td>0.011702</td>\n",
       "      <td>0.854621</td>\n",
       "      <td>0.013148</td>\n",
       "    </tr>\n",
       "    <tr>\n",
       "      <th>4</th>\n",
       "      <td>28.0</td>\n",
       "      <td>0.6363</td>\n",
       "      <td>67.0</td>\n",
       "      <td>6696.500000</td>\n",
       "      <td>58.257999</td>\n",
       "      <td>25.400000</td>\n",
       "      <td>0.2447</td>\n",
       "      <td>0.3674</td>\n",
       "      <td>-0.452085</td>\n",
       "      <td>4.204693</td>\n",
       "      <td>17.679440</td>\n",
       "      <td>8.809340</td>\n",
       "      <td>3.234749</td>\n",
       "      <td>4.064881</td>\n",
       "      <td>2.427671e+07</td>\n",
       "      <td>24982.580173</td>\n",
       "      <td>1</td>\n",
       "      <td>0.009497</td>\n",
       "      <td>0.754966</td>\n",
       "      <td>0.011268</td>\n",
       "    </tr>\n",
       "  </tbody>\n",
       "</table>\n",
       "</div>"
      ],
      "text/plain": [
       "   firmid   costs  output       plabor       pkap      pfuel  labshr  kapshr  \\\n",
       "0     1.0  0.2130     8.0  6869.470215  64.945000  18.000000  0.3291  0.4197   \n",
       "1    20.0  0.4887    14.0  5438.890137  86.110001  34.150002  0.2994  0.4571   \n",
       "2    17.0  0.6159    50.0  9204.240234  90.470001  32.070000  0.2963  0.0981   \n",
       "3    14.0  0.7606    65.0  8971.889648  41.243000  28.539000  0.2802  0.1282   \n",
       "4    28.0  0.6363    67.0  6696.500000  58.257999  25.400000  0.2447  0.3674   \n",
       "\n",
       "   Ltotcost   Loutput  Loutput_2   Lplabor    Lpfuel     Lpkap        Lpprod  \\\n",
       "0 -1.546463  2.079442   4.324077  8.834842  2.890372  4.173541  2.427671e+07   \n",
       "1 -0.716006  2.639057   6.964624  8.601330  3.530763  4.455626  2.427671e+07   \n",
       "2 -0.484671  3.912023  15.303924  9.127420  3.467921  4.505018  2.427671e+07   \n",
       "3 -0.273648  4.174387  17.425509  9.101852  3.351272  3.719481  2.427671e+07   \n",
       "4 -0.452085  4.204693  17.679440  8.809340  3.234749  4.064881  2.427671e+07   \n",
       "\n",
       "      Loutpfuel  One   avgcost  totcost_e  avgcost_e  \n",
       "0  24982.580173    1  0.026625   0.197823   0.024728  \n",
       "1  24982.580173    1  0.034907   0.373111   0.026651  \n",
       "2  24982.580173    1  0.012318   0.846654   0.016933  \n",
       "3  24982.580173    1  0.011702   0.854621   0.013148  \n",
       "4  24982.580173    1  0.009497   0.754966   0.011268  "
      ]
     },
     "execution_count": 42,
     "metadata": {},
     "output_type": "execute_result"
    }
   ],
   "source": [
    "# Rcuperamos de la regresión el valor del Log del costo estimado\n",
    "LY_pred = est2.predict(X)\n",
    "# Anti-log:\n",
    "Y = np.exp(LY_pred)\n",
    "# Colocamos en el Data Frame:\n",
    "dataframe['avgcost'] = dataframe[\"costs\"]/dataframe[\"output\"]\n",
    "dataframe['totcost_e'] = Y\n",
    "dataframe['avgcost_e'] = dataframe[\"totcost_e\"]/dataframe[\"output\"]\n",
    "dataframe.head()\n"
   ]
  },
  {
   "cell_type": "markdown",
   "metadata": {},
   "source": [
    "## 7. Gráfique su estimación de Costo Medio y el Costo Medio observado"
   ]
  },
  {
   "cell_type": "code",
   "execution_count": 44,
   "metadata": {},
   "outputs": [
    {
     "data": {
      "image/png": "[encoded data removed]",
      "text/plain": [
       "<Figure size 432x288 with 1 Axes>"
      ]
     },
     "metadata": {
      "needs_background": "light"
     },
     "output_type": "display_data"
    }
   ],
   "source": [
    "# graficamos resultados:\n",
    "\n",
    "plt.scatter(dataframe.output, dataframe.avgcost, s = 15, color =\"red\")\n",
    "plt.scatter(dataframe.output, dataframe.avgcost_e, s = 15, color =\"blue\")\n",
    "plt.title(\"Gráfico de dispersión Output vs Avg cost / Avg cost estimado\")\n",
    "#\n",
    "#\n",
    "plt.show()\n"
   ]
  },
  {
   "cell_type": "markdown",
   "metadata": {},
   "source": [
    "## 8. Guarde el Data Frame en un archivo CSV:"
   ]
  },
  {
   "cell_type": "code",
   "execution_count": 45,
   "metadata": {},
   "outputs": [],
   "source": [
    "dataframe.to_csv('guardar.csv')"
   ]
  },
  {
   "cell_type": "code",
   "execution_count": null,
   "metadata": {},
   "outputs": [],
   "source": []
  }
 ],
 "metadata": {
  "kernelspec": {
   "display_name": "Python 3",
   "language": "python",
   "name": "python3"
  },
  "language_info": {
   "codemirror_mode": {
    "name": "ipython",
    "version": 3
   },
   "file_extension": ".py",
   "mimetype": "text/x-python",
   "name": "python",
   "nbconvert_exporter": "python",
   "pygments_lexer": "ipython3",
   "version": "3.7.6"
  }
 },
 "nbformat": 4,
 "nbformat_minor": 2
}
